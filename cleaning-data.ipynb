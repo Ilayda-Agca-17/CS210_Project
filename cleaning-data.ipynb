{
 "cells": [
  {
   "cell_type": "markdown",
   "metadata": {},
   "source": [
    "IMPORTING LIBRARIES"
   ]
  },
  {
   "cell_type": "code",
   "execution_count": 1,
   "metadata": {},
   "outputs": [],
   "source": [
    "import pandas as pd \n",
    "import json"
   ]
  },
  {
   "cell_type": "markdown",
   "metadata": {},
   "source": [
    "CONVERTING JSON TO DATAFRAME"
   ]
  },
  {
   "cell_type": "code",
   "execution_count": 2,
   "metadata": {},
   "outputs": [],
   "source": [
    "with open('YourLibrary.json', 'r') as file:\n",
    "    data = json.load(file)\n",
    "\n",
    "tracks_data = data.get('tracks', [])"
   ]
  },
  {
   "cell_type": "code",
   "execution_count": 3,
   "metadata": {},
   "outputs": [],
   "source": [
    "df = pd.DataFrame(tracks_data)"
   ]
  },
  {
   "cell_type": "code",
   "execution_count": 4,
   "metadata": {},
   "outputs": [
    {
     "name": "stdout",
     "output_type": "stream",
     "text": [
      "<class 'pandas.core.frame.DataFrame'>\n",
      "RangeIndex: 4143 entries, 0 to 4142\n",
      "Data columns (total 4 columns):\n",
      " #   Column  Non-Null Count  Dtype \n",
      "---  ------  --------------  ----- \n",
      " 0   artist  4143 non-null   object\n",
      " 1   album   4143 non-null   object\n",
      " 2   track   4143 non-null   object\n",
      " 3   uri     4143 non-null   object\n",
      "dtypes: object(4)\n",
      "memory usage: 129.6+ KB\n"
     ]
    }
   ],
   "source": [
    "df.info()"
   ]
  },
  {
   "cell_type": "code",
   "execution_count": 5,
   "metadata": {},
   "outputs": [],
   "source": [
    "df.drop('uri', axis= 1, inplace= True)\n",
    "df.drop_duplicates(keep= \"first\", inplace= True)"
   ]
  },
  {
   "cell_type": "markdown",
   "metadata": {},
   "source": [
    "EDA "
   ]
  },
  {
   "cell_type": "code",
   "execution_count": 6,
   "metadata": {},
   "outputs": [
    {
     "name": "stdout",
     "output_type": "stream",
     "text": [
      "<class 'pandas.core.frame.DataFrame'>\n",
      "Index: 3833 entries, 0 to 4142\n",
      "Data columns (total 3 columns):\n",
      " #   Column  Non-Null Count  Dtype \n",
      "---  ------  --------------  ----- \n",
      " 0   artist  3833 non-null   object\n",
      " 1   album   3833 non-null   object\n",
      " 2   track   3833 non-null   object\n",
      "dtypes: object(3)\n",
      "memory usage: 119.8+ KB\n"
     ]
    }
   ],
   "source": [
    "df.info()"
   ]
  },
  {
   "cell_type": "code",
   "execution_count": 7,
   "metadata": {},
   "outputs": [
    {
     "name": "stdout",
     "output_type": "stream",
     "text": [
      "artist\n",
      "2CELLOS                  1\n",
      "3 Doors Down             1\n",
      "5 Seconds of Summer      1\n",
      "50 Cent                  6\n",
      "98º                      1\n",
      "                      ... \n",
      "maNga                   50\n",
      "mor ve ötesi           130\n",
      "Çağan Irmak              1\n",
      "Şahin Kendirci           3\n",
      "Şebnem Ferah             2\n",
      "Name: track, Length: 413, dtype: int64\n"
     ]
    }
   ],
   "source": [
    "artist_song_count = df.groupby('artist')['track'].count()\n",
    "\n",
    "# Displaying the result\n",
    "print(artist_song_count)"
   ]
  },
  {
   "cell_type": "code",
   "execution_count": 8,
   "metadata": {},
   "outputs": [
    {
     "name": "stdout",
     "output_type": "stream",
     "text": [
      "artist\n",
      "50 Cent             5\n",
      "98º                 1\n",
      "AFROJACK            1\n",
      "Ab-Soul             1\n",
      "Action Bronson      2\n",
      "                 ... \n",
      "maNga              44\n",
      "mor ve ötesi      130\n",
      "Çağan Irmak         1\n",
      "Şahin Kendirci      3\n",
      "Şebnem Ferah        1\n",
      "Name: track, Length: 241, dtype: int64\n"
     ]
    }
   ],
   "source": [
    "#albums with less than 10 songs are dropped \n",
    "album_song_count = df.groupby('album')['track'].count()\n",
    "albums_to_drop = album_song_count[(album_song_count < 10)].index\n",
    "df.drop(df[df['album'].isin(albums_to_drop)].index, inplace=True)\n",
    "print(df.groupby('artist')['track'].count())\n",
    "\n"
   ]
  },
  {
   "cell_type": "code",
   "execution_count": 9,
   "metadata": {},
   "outputs": [
    {
     "name": "stdout",
     "output_type": "stream",
     "text": [
      "                artist                                       album  \\\n",
      "3               Eminem                                    Kamikaze   \n",
      "4             Coldplay                       A Head Full of Dreams   \n",
      "5     Ludwig Göransson  Venom (Original Motion Picture Soundtrack)   \n",
      "6             Big Sean                           Dark Sky Paradise   \n",
      "7               Teoman                          Paramparça Senfoni   \n",
      "...                ...                                         ...   \n",
      "4133          Coldplay                       A Head Full of Dreams   \n",
      "4134             Queen                                    The Game   \n",
      "4135              MIKA                   The Boy Who Knew Too Much   \n",
      "4139            Eminem                                      Encore   \n",
      "4140        Kanye West           My Beautiful Dark Twisted Fantasy   \n",
      "\n",
      "                                track  \n",
      "3       Good Guy (feat. Jessie Reyez)  \n",
      "4                Hymn for the Weekend  \n",
      "5                  Pedal To The Metal  \n",
      "6                 Win Some, Lose Some  \n",
      "7         Sessiz Eller - Enstrümental  \n",
      "...                               ...  \n",
      "4133                      Army of One  \n",
      "4134  Dragon Attack - Remastered 2011  \n",
      "4135            Blame It On The Girls  \n",
      "4139                      Paul - Skit  \n",
      "4140    All Of The Lights (Interlude)  \n",
      "\n",
      "[2329 rows x 3 columns]\n"
     ]
    }
   ],
   "source": [
    "#artists that have less than 30 songs are dropped \n",
    "artists_with_30_or_more_songs = artist_song_count[artist_song_count >= 30].index\n",
    "df = df[df['artist'].isin(artists_with_30_or_more_songs)]\n",
    "\n",
    "print(df)"
   ]
  },
  {
   "cell_type": "code",
   "execution_count": 10,
   "metadata": {},
   "outputs": [
    {
     "name": "stdout",
     "output_type": "stream",
     "text": [
      "artist\n",
      "Athena                35\n",
      "Big Sean              47\n",
      "Bruno Mars            22\n",
      "Coldplay              45\n",
      "David Guetta          69\n",
      "Drake                 84\n",
      "Duman                 77\n",
      "Ed Sheeran            64\n",
      "Eminem               184\n",
      "Imagine Dragons       48\n",
      "Jason Derulo          59\n",
      "Justin Timberlake     33\n",
      "Kanye West            45\n",
      "Lil Wayne             79\n",
      "Ludwig Göransson      33\n",
      "MIKA                  30\n",
      "Maroon 5              49\n",
      "Metallica             64\n",
      "Müslüm Gürses         60\n",
      "Nilüfer               37\n",
      "Post Malone           36\n",
      "Queen                388\n",
      "Sam Smith             34\n",
      "Shawn Mendes          47\n",
      "Teoman               201\n",
      "The Qemists           38\n",
      "The Weeknd            44\n",
      "Travis Scott          46\n",
      "USHER                 33\n",
      "XXXTENTACION          44\n",
      "Yelawolf              80\n",
      "maNga                 44\n",
      "mor ve ötesi         130\n",
      "Name: track, dtype: int64\n"
     ]
    }
   ],
   "source": [
    "#number of tracks for each artist \n",
    "print(df.groupby('artist')['track'].count())"
   ]
  },
  {
   "cell_type": "code",
   "execution_count": 11,
   "metadata": {},
   "outputs": [],
   "source": [
    "#do not listen these artists music anymore \n",
    "artists_to_drop = ['Drake', 'Lil Wayne', 'Metallica', 'Big Sean', 'Justin Timberlake', 'The Qemists', 'Ludwig Göransson', 'Yelawolf', 'Athena']"
   ]
  },
  {
   "cell_type": "code",
   "execution_count": 12,
   "metadata": {},
   "outputs": [],
   "source": [
    "df = df[~df['artist'].isin(artists_to_drop)]"
   ]
  },
  {
   "cell_type": "code",
   "execution_count": 13,
   "metadata": {},
   "outputs": [
    {
     "name": "stdout",
     "output_type": "stream",
     "text": [
      "Artist: Bruno Mars\n",
      "Albums:\n",
      "['Unorthodox Jukebox' 'Doo-Wops & Hooligans']\n",
      "----------------------\n",
      "Artist: Coldplay\n",
      "Albums:\n",
      "['A Head Full of Dreams' 'Live in Buenos Aires'\n",
      " 'Viva La Vida or Death and All His Friends' 'Until Now']\n",
      "----------------------\n",
      "Artist: David Guetta\n",
      "Albums:\n",
      "['One More Love' 'Nothing but the Beat' '7' 'TY.O']\n",
      "----------------------\n",
      "Artist: Duman\n",
      "Albums:\n",
      "['Canlı' 'Duman 1' 'Seni Kendime Sakladım' 'Duman 2' 'Darmaduman']\n",
      "----------------------\n",
      "Artist: Ed Sheeran\n",
      "Albums:\n",
      "['5' '÷' 'x']\n",
      "----------------------\n",
      "Artist: Eminem\n",
      "Albums:\n",
      "['Kamikaze' 'The Marshall Mathers LP2' 'Relapse [Deluxe]'\n",
      " 'The Eminem Show' 'The Marshall Mathers LP' 'Revival' 'Recovery'\n",
      " 'Curtain Call' 'SHADYXV' 'Encore' 'Suicide Squad: The Album' 'Southpaw']\n",
      "----------------------\n",
      "Artist: Imagine Dragons\n",
      "Albums:\n",
      "['Night Visions' 'Evolve' 'Origins']\n",
      "----------------------\n",
      "Artist: Jason Derulo\n",
      "Albums:\n",
      "['Tattoos' 'Reloaded' 'Jason Derulo' 'Future History' 'Everything Is 4'\n",
      " '7']\n",
      "----------------------\n",
      "Artist: Kanye West\n",
      "Albums:\n",
      "['The Life Of Pablo' 'My Beautiful Dark Twisted Fantasy'\n",
      " '808s & Heartbreak']\n",
      "----------------------\n",
      "Artist: MIKA\n",
      "Albums:\n",
      "['The Boy Who Knew Too Much']\n",
      "----------------------\n",
      "Artist: Maroon 5\n",
      "Albums:\n",
      "['V' 'Red Pill Blues' 'Songs About Jane']\n",
      "----------------------\n",
      "Artist: Müslüm Gürses\n",
      "Albums:\n",
      "['Aşk Tesadüfleri Sever' 'Müslüm Baba' 'İkimizin Yerine' 'Vay Canım'\n",
      " 'Yalan Dünya']\n",
      "----------------------\n",
      "Artist: Nilüfer\n",
      "Albums:\n",
      "['25 Düet' '12 Düet']\n",
      "----------------------\n",
      "Artist: Post Malone\n",
      "Albums:\n",
      "['Stoney' 'beerbongs & bentleys']\n",
      "----------------------\n",
      "Artist: Queen\n",
      "Albums:\n",
      "['Made In Heaven' 'Bohemian Rhapsody' 'Live Killers' 'Sheer Heart Attack'\n",
      " 'Live At The Rainbow' 'A Kind Of Magic' 'Live At Wembley Stadium' 'Jazz'\n",
      " 'The Miracle' 'Queen Rock Montreal' 'Greatest Hits III' 'Innuendo'\n",
      " 'Greatest Hits' 'A Night At The Odeon' 'The Works' 'A Day At The Races'\n",
      " 'A Night At The Opera' 'Greatest Hits II' 'The Game' 'Hot Space']\n",
      "----------------------\n",
      "Artist: Sam Smith\n",
      "Albums:\n",
      "['In The Lonely Hour' 'The Thrill Of It All']\n",
      "----------------------\n",
      "Artist: Shawn Mendes\n",
      "Albums:\n",
      "['Handwritten (Revisited)' 'Illuminate' 'Handwritten']\n",
      "----------------------\n",
      "Artist: Teoman\n",
      "Albums:\n",
      "['Paramparça Senfoni' 'Koyu Antoloji' 'Konserler, Vol. 1'\n",
      " 'İnsanlık Halleri' 'Konserler' 'Yavaş Yavaş' 'En Güzel Hikayem'\n",
      " 'Eski Bir Rüya Uğruna...' 'Teo' 'Renkli Rüyalar Oteli' 'O' 'Teoman' '17'\n",
      " 'Aşk & Gurur' 'Aşk Tesadüfleri Sever']\n",
      "----------------------\n",
      "Artist: The Weeknd\n",
      "Albums:\n",
      "['Beauty Behind The Madness' 'Kiss Land' 'Starboy'\n",
      " 'Black Panther The Album Music From And Inspired By' 'Southpaw']\n",
      "----------------------\n",
      "Artist: Travis Scott\n",
      "Albums:\n",
      "['ASTROWORLD' 'Rodeo' 'Birds In The Trap Sing McKnight']\n",
      "----------------------\n",
      "Artist: USHER\n",
      "Albums:\n",
      "['Hard II Love' 'Looking 4 Myself (Deluxe Version)']\n",
      "----------------------\n",
      "Artist: XXXTENTACION\n",
      "Albums:\n",
      "['17' 'XXXTENTACION Presents: Members Only, Vol. 4' 'SKINS' '?']\n",
      "----------------------\n",
      "Artist: maNga\n",
      "Albums:\n",
      "['Işıkları Söndürseler Bile' 'maNga +' 'Şehr-i Hüzün']\n",
      "----------------------\n",
      "Artist: mor ve ötesi\n",
      "Albums:\n",
      "['Güneşi Beklerken' 'Dünya Yalan Söylüyor' 'Başıbozuk' 'Bırak Zaman Aksın'\n",
      " 'mor ve ötesi' 'Büyük Düşler' 'Gül Kendine' 'Masumiyetin Ziyan Olmaz']\n",
      "----------------------\n"
     ]
    }
   ],
   "source": [
    "# displaying album names for each artist\n",
    "grouped_by_artist = df.groupby('artist')\n",
    "for artist, group in grouped_by_artist:\n",
    "    print(f\"Artist: {artist}\")\n",
    "    print(\"Albums:\")\n",
    "    print(group['album'].unique())\n",
    "    print(\"----------------------\")"
   ]
  },
  {
   "cell_type": "code",
   "execution_count": 14,
   "metadata": {},
   "outputs": [],
   "source": [
    "#need to drop these to for equal distribution of songs per each artist \n",
    "albums_to_drop = [\n",
    "                  'Canlı', 'Seni Kendime Sakladım',  #Duman \n",
    "                  '5',          #Ed Sheeran \n",
    "                  'The Eminem Show', 'Revival', 'Killshot', 'SHADYXV' , 'Southpaw', 'Suicide Squad: The Album', 'The Marshall Mathers LP',  #Eminem\n",
    "                  'Encore', 'Relapse [Deluxe]', 'Curtain Call', 'Kamikaze',  #Eminem\n",
    "                  'TY.O',  'One More Love',          #David Guetta \n",
    "                  'Origins',                      #Imagine Dragons \n",
    "                  'Reloaded' , 'Jason Derulo',  #Jason Derulo \n",
    "                  '1.22.03 Acoustic', 'Girls Like You (feat. Cardi B)',   'Red Pill Blues' ,                 #Maroon 5\n",
    "                  'St. Anger', 'Master Of Puppets', 'Metallica Through The Never (Music from the Motion Picture)',\n",
    "                  'Vay Canım',              #Müslüm Gürses\n",
    "                  'Live Killers', 'Sheer Heart Attack', 'Live Killers', 'Live At The Rainbow', 'The Miracle', 'Queen Rock Montreal', 'Greatest Hits III', 'A Kind Of Magic', 'Jazz' ,  #Queen\n",
    "                  'Greatest Hits', 'A Night At The Odeon', 'The Works', 'A Day At The Races', 'A Night At The Opera', 'Greatest Hits II', 'Hot Space', 'Live At Wembley Stadium', 'Innuendo',   #Queen\n",
    "                  'Handwritten',        #Shawn Mendes\n",
    "                  'Paramparça Senfoni', 'Konserler, Vol. 1', 'Konserler', 'En Güzel Hikayem', 'O', 'Teoman', '17', 'Aşk Tesadüfleri Sever', 'Aşk & Gurur' , 'Teo', 'Koyu Antoloji',    #Teoman\n",
    "                  'Black Panther The Album Music From And Inspired By', #The Weeknd\n",
    "                  'Birds In The Trap Sing McKnight',            #Travis Scott\n",
    "                  'Trunk Muzik 3', 'Trial By Fire', 'Trunk Muzik 0-60', 'SHADYXV',      #Yelawolf \n",
    "                  'Başıbozuk', 'Gül Kendine', 'Bırak Zaman Aksın' , 'Büyük Düşler', 'mor ve ötesi'      #Mor ve Ötesi \n",
    "                  ]"
   ]
  },
  {
   "cell_type": "code",
   "execution_count": 15,
   "metadata": {},
   "outputs": [],
   "source": [
    "df.drop(df[df['album'].isin(albums_to_drop)].index, inplace=True)"
   ]
  },
  {
   "cell_type": "code",
   "execution_count": 16,
   "metadata": {},
   "outputs": [
    {
     "name": "stdout",
     "output_type": "stream",
     "text": [
      "<class 'pandas.core.frame.DataFrame'>\n",
      "Index: 877 entries, 4 to 4140\n",
      "Data columns (total 3 columns):\n",
      " #   Column  Non-Null Count  Dtype \n",
      "---  ------  --------------  ----- \n",
      " 0   artist  877 non-null    object\n",
      " 1   album   877 non-null    object\n",
      " 2   track   877 non-null    object\n",
      "dtypes: object(3)\n",
      "memory usage: 27.4+ KB\n"
     ]
    }
   ],
   "source": [
    "df.info()"
   ]
  },
  {
   "cell_type": "code",
   "execution_count": 17,
   "metadata": {},
   "outputs": [
    {
     "name": "stdout",
     "output_type": "stream",
     "text": [
      "Artist: Bruno Mars\n",
      "Albums:\n",
      "['Unorthodox Jukebox' 'Doo-Wops & Hooligans']\n",
      "----------------------\n",
      "Artist: Coldplay\n",
      "Albums:\n",
      "['A Head Full of Dreams' 'Live in Buenos Aires'\n",
      " 'Viva La Vida or Death and All His Friends' 'Until Now']\n",
      "----------------------\n",
      "Artist: David Guetta\n",
      "Albums:\n",
      "['Nothing but the Beat' '7']\n",
      "----------------------\n",
      "Artist: Duman\n",
      "Albums:\n",
      "['Duman 1' 'Duman 2' 'Darmaduman']\n",
      "----------------------\n",
      "Artist: Ed Sheeran\n",
      "Albums:\n",
      "['÷' 'x']\n",
      "----------------------\n",
      "Artist: Eminem\n",
      "Albums:\n",
      "['The Marshall Mathers LP2' 'Recovery']\n",
      "----------------------\n",
      "Artist: Imagine Dragons\n",
      "Albums:\n",
      "['Night Visions' 'Evolve']\n",
      "----------------------\n",
      "Artist: Jason Derulo\n",
      "Albums:\n",
      "['Tattoos' 'Future History' 'Everything Is 4' '7']\n",
      "----------------------\n",
      "Artist: Kanye West\n",
      "Albums:\n",
      "['The Life Of Pablo' 'My Beautiful Dark Twisted Fantasy'\n",
      " '808s & Heartbreak']\n",
      "----------------------\n",
      "Artist: MIKA\n",
      "Albums:\n",
      "['The Boy Who Knew Too Much']\n",
      "----------------------\n",
      "Artist: Maroon 5\n",
      "Albums:\n",
      "['V' 'Songs About Jane']\n",
      "----------------------\n",
      "Artist: Müslüm Gürses\n",
      "Albums:\n",
      "['Müslüm Baba' 'İkimizin Yerine' 'Yalan Dünya']\n",
      "----------------------\n",
      "Artist: Nilüfer\n",
      "Albums:\n",
      "['25 Düet' '12 Düet']\n",
      "----------------------\n",
      "Artist: Post Malone\n",
      "Albums:\n",
      "['Stoney' 'beerbongs & bentleys']\n",
      "----------------------\n",
      "Artist: Queen\n",
      "Albums:\n",
      "['Made In Heaven' 'Bohemian Rhapsody' 'The Game']\n",
      "----------------------\n",
      "Artist: Sam Smith\n",
      "Albums:\n",
      "['In The Lonely Hour' 'The Thrill Of It All']\n",
      "----------------------\n",
      "Artist: Shawn Mendes\n",
      "Albums:\n",
      "['Handwritten (Revisited)' 'Illuminate']\n",
      "----------------------\n",
      "Artist: Teoman\n",
      "Albums:\n",
      "['İnsanlık Halleri' 'Yavaş Yavaş' 'Eski Bir Rüya Uğruna...'\n",
      " 'Renkli Rüyalar Oteli']\n",
      "----------------------\n",
      "Artist: The Weeknd\n",
      "Albums:\n",
      "['Beauty Behind The Madness' 'Kiss Land' 'Starboy']\n",
      "----------------------\n",
      "Artist: Travis Scott\n",
      "Albums:\n",
      "['ASTROWORLD' 'Rodeo']\n",
      "----------------------\n",
      "Artist: USHER\n",
      "Albums:\n",
      "['Hard II Love' 'Looking 4 Myself (Deluxe Version)']\n",
      "----------------------\n",
      "Artist: XXXTENTACION\n",
      "Albums:\n",
      "['XXXTENTACION Presents: Members Only, Vol. 4' 'SKINS' '?']\n",
      "----------------------\n",
      "Artist: maNga\n",
      "Albums:\n",
      "['Işıkları Söndürseler Bile' 'maNga +' 'Şehr-i Hüzün']\n",
      "----------------------\n",
      "Artist: mor ve ötesi\n",
      "Albums:\n",
      "['Güneşi Beklerken' 'Dünya Yalan Söylüyor' 'Masumiyetin Ziyan Olmaz']\n",
      "----------------------\n"
     ]
    }
   ],
   "source": [
    "# displaying album names for each artist\n",
    "grouped_by_artist = df.groupby('artist')\n",
    "for artist, group in grouped_by_artist:\n",
    "    print(f\"Artist: {artist}\")\n",
    "    print(\"Albums:\")\n",
    "    print(group['album'].unique())\n",
    "    print(\"----------------------\")"
   ]
  },
  {
   "cell_type": "code",
   "execution_count": 18,
   "metadata": {},
   "outputs": [
    {
     "name": "stdout",
     "output_type": "stream",
     "text": [
      "artist\n",
      "Bruno Mars         22\n",
      "Coldplay           45\n",
      "David Guetta       41\n",
      "Duman              33\n",
      "Ed Sheeran         32\n",
      "Eminem             38\n",
      "Imagine Dragons    33\n",
      "Jason Derulo       37\n",
      "Kanye West         45\n",
      "MIKA               30\n",
      "Maroon 5           27\n",
      "Müslüm Gürses      34\n",
      "Nilüfer            37\n",
      "Post Malone        36\n",
      "Queen              55\n",
      "Sam Smith          34\n",
      "Shawn Mendes       32\n",
      "Teoman             48\n",
      "The Weeknd         42\n",
      "Travis Scott       33\n",
      "USHER              33\n",
      "XXXTENTACION       33\n",
      "maNga              44\n",
      "mor ve ötesi       33\n",
      "Name: track, dtype: int64\n"
     ]
    }
   ],
   "source": [
    "print(df.groupby('artist')['track'].count())"
   ]
  },
  {
   "cell_type": "code",
   "execution_count": 19,
   "metadata": {},
   "outputs": [],
   "source": [
    "df.to_excel('Songs.xlsx', index= False)"
   ]
  }
 ],
 "metadata": {
  "kernelspec": {
   "display_name": "Python 3",
   "language": "python",
   "name": "python3"
  },
  "language_info": {
   "codemirror_mode": {
    "name": "ipython",
    "version": 3
   },
   "file_extension": ".py",
   "mimetype": "text/x-python",
   "name": "python",
   "nbconvert_exporter": "python",
   "pygments_lexer": "ipython3",
   "version": "3.11.6"
  }
 },
 "nbformat": 4,
 "nbformat_minor": 2
}
